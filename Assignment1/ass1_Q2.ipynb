{
  "nbformat": 4,
  "nbformat_minor": 0,
  "metadata": {
    "colab": {
      "name": "ass1_Q2.ipynb",
      "provenance": [],
      "collapsed_sections": []
    },
    "kernelspec": {
      "name": "python3",
      "display_name": "Python 3"
    },
    "language_info": {
      "name": "python"
    }
  },
  "cells": [
    {
      "cell_type": "code",
      "metadata": {
        "id": "xY77F_6w_ghq"
      },
      "source": [
        "#Write a Python program to accept the user's first and last name and then getting them printed \n",
        "#in the the reverse order with a space between first name and last name."
      ],
      "execution_count": 1,
      "outputs": []
    },
    {
      "cell_type": "code",
      "metadata": {
        "colab": {
          "base_uri": "https://localhost:8080/"
        },
        "id": "b0-_N-c9_-gp",
        "outputId": "9c14b524-f0f4-44eb-a841-e71f453bd3cc"
      },
      "source": [
        "f_n=input('Enter your first name')\n",
        "l_n=input('Enter your last name')\n",
        "print('reverse of your name:-')\n",
        "print(l_n,f_n)"
      ],
      "execution_count": 18,
      "outputs": [
        {
          "output_type": "stream",
          "name": "stdout",
          "text": [
            "Enter your first nameAlakar\n",
            "Enter your last nameSharma\n",
            "reverse of your name:-\n",
            "Sharma Alakar\n"
          ]
        }
      ]
    },
    {
      "cell_type": "code",
      "metadata": {
        "id": "z_oSGTClAia0"
      },
      "source": [
        ""
      ],
      "execution_count": null,
      "outputs": []
    },
    {
      "cell_type": "code",
      "metadata": {
        "id": "vLeoj9YkBUrr"
      },
      "source": [
        ""
      ],
      "execution_count": null,
      "outputs": []
    },
    {
      "cell_type": "code",
      "metadata": {
        "id": "30C8sgaABaV0"
      },
      "source": [
        ""
      ],
      "execution_count": null,
      "outputs": []
    }
  ]
}