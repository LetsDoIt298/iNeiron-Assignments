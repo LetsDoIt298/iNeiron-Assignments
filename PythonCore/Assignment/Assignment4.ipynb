{
 "cells": [
  {
   "cell_type": "code",
   "execution_count": 10,
   "id": "a76aa9a9",
   "metadata": {},
   "outputs": [
    {
     "name": "stdout",
     "output_type": "stream",
     "text": [
      "Enter 1st side of triangle -> 3\n",
      "Enter 2nd side of triangle -> 3\n",
      "Enter 3rd side of triangle -> 3\n"
     ]
    },
    {
     "data": {
      "text/plain": [
       "3.897114317029974"
      ]
     },
     "execution_count": 10,
     "metadata": {},
     "output_type": "execute_result"
    }
   ],
   "source": [
    "#Q1.1\n",
    "\n",
    "class Side_length:\n",
    "    def __init__(self):\n",
    "        self.side_a = int(input('Enter 1st side of triangle -> '))\n",
    "        self.side_b = int(input('Enter 2nd side of triangle -> '))\n",
    "        self.side_c = int(input('Enter 3rd side of triangle -> '))\n",
    "\n",
    "class Area(Side_length):\n",
    "    def __init__(self):\n",
    "        Side_length.__init__(self)\n",
    "        \n",
    "    def calculated_Area(self):\n",
    "        a = self.side_a\n",
    "        b = self.side_b\n",
    "        c = self.side_c\n",
    "        s = (a+b+c)/2 \n",
    "        ans = (s*(s-a)*(s-b)*(s-c)) ** 0.5\n",
    "        return ans\n",
    "\n",
    "###############################################################        \n",
    "#x = Side_length()\n",
    "y = Area()\n",
    "y.calculated_Area()"
   ]
  },
  {
   "cell_type": "code",
   "execution_count": null,
   "id": "d7b76754",
   "metadata": {},
   "outputs": [],
   "source": []
  },
  {
   "cell_type": "code",
   "execution_count": 14,
   "id": "f66cf007",
   "metadata": {},
   "outputs": [
    {
     "data": {
      "text/plain": [
       "['dfDFGSsf', 'EGAASDF']"
      ]
     },
     "execution_count": 14,
     "metadata": {},
     "output_type": "execute_result"
    }
   ],
   "source": [
    "#Q1.2\n",
    "\n",
    "def filter_long_words(l,n):\n",
    "    long_words=[]\n",
    "    for i in l:\n",
    "        if len(i) > n:\n",
    "            long_words.append(i)\n",
    "    return long_words\n",
    "\n",
    "l=['dfDFGSsf','fgg','EGAASDF','EWTR']\n",
    "filter_long_words(l,4)        "
   ]
  },
  {
   "cell_type": "code",
   "execution_count": 16,
   "id": "4660784b",
   "metadata": {},
   "outputs": [
    {
     "data": {
      "text/plain": [
       "[3, 5, 6]"
      ]
     },
     "execution_count": 16,
     "metadata": {},
     "output_type": "execute_result"
    }
   ],
   "source": [
    "#Q2\n",
    "\n",
    "def len_of_words(l):\n",
    "    l1=[]\n",
    "    for i in l:\n",
    "        l1.append(len(i))\n",
    "    return l1\n",
    "\n",
    "l=['cat','Naman', 'Choice']\n",
    "len_of_words(l)"
   ]
  },
  {
   "cell_type": "code",
   "execution_count": 20,
   "id": "ee138bbd",
   "metadata": {},
   "outputs": [
    {
     "name": "stdout",
     "output_type": "stream",
     "text": [
      "False\n",
      "True\n"
     ]
    }
   ],
   "source": [
    "#Q2.2\n",
    "\n",
    "def check_vovel(character):\n",
    "    if(character == 'a' or character == 'e' or character == 'i' or character == 'o' or character == 'u' or\n",
    "    character == 'A' or character == 'E' or character == 'I' or character == 'O' or character == 'U'):\n",
    "        return True\n",
    "    else:\n",
    "        return False\n",
    "    \n",
    "print(check_vovel('r') )\n",
    "print(check_vovel('e') )"
   ]
  },
  {
   "cell_type": "code",
   "execution_count": null,
   "id": "c37a2f30",
   "metadata": {},
   "outputs": [],
   "source": []
  }
 ],
 "metadata": {
  "kernelspec": {
   "display_name": "Python 3",
   "language": "python",
   "name": "python3"
  },
  "language_info": {
   "codemirror_mode": {
    "name": "ipython",
    "version": 3
   },
   "file_extension": ".py",
   "mimetype": "text/x-python",
   "name": "python",
   "nbconvert_exporter": "python",
   "pygments_lexer": "ipython3",
   "version": "3.8.8"
  }
 },
 "nbformat": 4,
 "nbformat_minor": 5
}
