{
  "nbformat": 4,
  "nbformat_minor": 0,
  "metadata": {
    "colab": {
      "name": "ass2_Q1.ipynb",
      "provenance": [],
      "collapsed_sections": []
    },
    "kernelspec": {
      "name": "python3",
      "display_name": "Python 3"
    },
    "language_info": {
      "name": "python"
    }
  },
  "cells": [
    {
      "cell_type": "code",
      "metadata": {
        "id": "xY77F_6w_ghq"
      },
      "source": [
        "#create pattern"
      ],
      "execution_count": 1,
      "outputs": []
    },
    {
      "cell_type": "code",
      "metadata": {
        "colab": {
          "base_uri": "https://localhost:8080/"
        },
        "id": "b0-_N-c9_-gp",
        "outputId": "19ecc4f4-e6b4-409d-e88f-6337842ee25b"
      },
      "source": [
        "k=2\n",
        "for i in range(1,10):\n",
        "  l1=[]\n",
        "  if(i<=5):\n",
        "    for j in range(i):\n",
        "        l1.append('*')\n",
        "    print(l1)\n",
        "  else: \n",
        "    for j in range(i-k):\n",
        "        l1.append('*')\n",
        "    k +=2\n",
        "    print(l1)"
      ],
      "execution_count": 74,
      "outputs": [
        {
          "output_type": "stream",
          "name": "stdout",
          "text": [
            "['*']\n",
            "['*', '*']\n",
            "['*', '*', '*']\n",
            "['*', '*', '*', '*']\n",
            "['*', '*', '*', '*', '*']\n",
            "['*', '*', '*', '*']\n",
            "['*', '*', '*']\n",
            "['*', '*']\n",
            "['*']\n"
          ]
        }
      ]
    },
    {
      "cell_type": "code",
      "metadata": {
        "id": "ZcAmW_Q0MYNg"
      },
      "source": [
        ""
      ],
      "execution_count": null,
      "outputs": []
    }
  ]
}