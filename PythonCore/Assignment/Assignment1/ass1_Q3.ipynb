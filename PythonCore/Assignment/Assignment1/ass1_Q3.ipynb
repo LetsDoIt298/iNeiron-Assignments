{
  "nbformat": 4,
  "nbformat_minor": 0,
  "metadata": {
    "colab": {
      "name": "ass1_Q3.ipynb",
      "provenance": [],
      "collapsed_sections": []
    },
    "kernelspec": {
      "name": "python3",
      "display_name": "Python 3"
    },
    "language_info": {
      "name": "python"
    }
  },
  "cells": [
    {
      "cell_type": "code",
      "metadata": {
        "id": "xY77F_6w_ghq"
      },
      "source": [
        "#Write a Python program to find the volume of a sphere with diameter 12cm.\n",
        "#Formula: V=4/3 * π * r 3"
      ],
      "execution_count": 1,
      "outputs": []
    },
    {
      "cell_type": "code",
      "metadata": {
        "colab": {
          "base_uri": "https://localhost:8080/"
        },
        "id": "b0-_N-c9_-gp",
        "outputId": "a06f7174-3701-41a9-b83d-f7caf41b6fb0"
      },
      "source": [
        "D=int(input('Enter the diameter'))\n",
        "r=D/2\n",
        "vol= (4 * 22 * r*r*r)/(3*7)\n",
        "print('volume = ',vol)"
      ],
      "execution_count": 26,
      "outputs": [
        {
          "output_type": "stream",
          "name": "stdout",
          "text": [
            "Enter the diameter12\n",
            "volume =  905.1428571428571\n"
          ]
        }
      ]
    },
    {
      "cell_type": "code",
      "metadata": {
        "id": "z_oSGTClAia0"
      },
      "source": [
        ""
      ],
      "execution_count": null,
      "outputs": []
    },
    {
      "cell_type": "code",
      "metadata": {
        "id": "vLeoj9YkBUrr"
      },
      "source": [
        ""
      ],
      "execution_count": null,
      "outputs": []
    },
    {
      "cell_type": "code",
      "metadata": {
        "id": "30C8sgaABaV0"
      },
      "source": [
        ""
      ],
      "execution_count": null,
      "outputs": []
    }
  ]
}