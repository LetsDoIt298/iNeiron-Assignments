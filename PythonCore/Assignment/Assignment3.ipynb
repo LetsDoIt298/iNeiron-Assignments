{
 "cells": [
  {
   "cell_type": "code",
   "execution_count": 44,
   "id": "e574202f",
   "metadata": {},
   "outputs": [
    {
     "data": {
      "text/plain": [
       "'from functools import reduce\\n\\ndef do_sum(x1, x2): return x1 + x2 \\n\\nreduce(do_sum, [1, 2, 3, 4])'"
      ]
     },
     "execution_count": 44,
     "metadata": {},
     "output_type": "execute_result"
    }
   ],
   "source": [
    "'''from functools import reduce\n",
    "\n",
    "def do_sum(x1, x2): return x1 + x2 \n",
    "\n",
    "reduce(do_sum, [1, 2, 3, 4])'''"
   ]
  },
  {
   "cell_type": "code",
   "execution_count": 45,
   "id": "a5915a88",
   "metadata": {
    "scrolled": true
   },
   "outputs": [
    {
     "data": {
      "text/plain": [
       "10"
      ]
     },
     "execution_count": 45,
     "metadata": {},
     "output_type": "execute_result"
    }
   ],
   "source": [
    "#Q1.1\n",
    "def do_sum(x1, x2): return x1 + x2 \n",
    "\n",
    "def own_reduce(do_sum,l):\n",
    "    val=0\n",
    "    for i in range(len(l)):\n",
    "        val = do_sum(val,l[i])\n",
    "    return val\n",
    "\n",
    "l=[1,2,3,4]\n",
    "own_reduce(do_sum,l)        "
   ]
  },
  {
   "cell_type": "code",
   "execution_count": 56,
   "id": "ff19dfc4",
   "metadata": {},
   "outputs": [
    {
     "data": {
      "text/plain": [
       "['e', 'e']"
      ]
     },
     "execution_count": 56,
     "metadata": {},
     "output_type": "execute_result"
    }
   ],
   "source": [
    "#Q1.2\n",
    "def own_filter(seq):\n",
    "    l=[]\n",
    "    sequence = ['a','e','i','o','u']\n",
    "    for i in seq:\n",
    "        if i in sequence:\n",
    "            l.append('True')\n",
    "        else:\n",
    "            l.append('False')\n",
    "    l1=[]\n",
    "    for i in range(len(l)):\n",
    "        if l[i] == 'True':\n",
    "            l1.append(seq[i])\n",
    "    return l1\n",
    "            \n",
    "        \n",
    "    \n",
    "\n",
    "\n",
    "entered_sequence = ['g', 'e', 'e', 'j', 'k', 's', 'p', 'r']\n",
    "own_filter(entered_sequence)"
   ]
  },
  {
   "cell_type": "code",
   "execution_count": 164,
   "id": "226e0b04",
   "metadata": {},
   "outputs": [
    {
     "name": "stdout",
     "output_type": "stream",
     "text": [
      "['x', 'xx', 'xxx', 'xxxx', 'y', 'yy', 'yyy', 'yyyy', 'z', 'zz', 'zzz', 'zzzz']\n",
      "\n",
      "['x', 'y', 'z', 'xx', 'yy', 'zz', 'xxx', 'yyy', 'zzz', 'xxxx', 'yyyy', 'zzzz']\n",
      "\n",
      "[[2], [3], [4], [3], [4], [5], [4], [5], [6]] [[2], [3], [4], [5], [3], [4], [5], [6], [4], [5], [6], [7]]\n",
      "\n",
      "[(1, 1), (2, 1), (3, 1), (1, 2), (2, 2), (3, 2), (1, 3), (2, 3), (3, 3)]\n",
      "\n"
     ]
    }
   ],
   "source": [
    "#Q2\n",
    "#['X'*i for i in range(1,5)] + ['Y'*i for i in range(1,5)] + ['Z'*i for i in range(1,5)]\n",
    "print([i*j for i in 'xyz' for j in range(1,5)],end='\\n\\n' )\n",
    "\n",
    "print( [i*j for j in range(1,5) for i in 'xyz'],end='\\n\\n')\n",
    "\n",
    "print([[j] for i in range(3) for j in range(2+i,5+i)] , [[j] for i in range(3) for j in range(2+i,6+i)],end='\\n\\n' )\n",
    "\n",
    "print([ (j,i) for i in range(1,4) for j in range(1,4) ],end='\\n\\n')"
   ]
  }
 ],
 "metadata": {
  "kernelspec": {
   "display_name": "Python 3",
   "language": "python",
   "name": "python3"
  },
  "language_info": {
   "codemirror_mode": {
    "name": "ipython",
    "version": 3
   },
   "file_extension": ".py",
   "mimetype": "text/x-python",
   "name": "python",
   "nbconvert_exporter": "python",
   "pygments_lexer": "ipython3",
   "version": "3.8.8"
  }
 },
 "nbformat": 4,
 "nbformat_minor": 5
}
