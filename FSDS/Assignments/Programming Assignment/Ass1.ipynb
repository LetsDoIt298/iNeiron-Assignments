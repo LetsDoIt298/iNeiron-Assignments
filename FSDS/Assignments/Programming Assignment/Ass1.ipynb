{
 "cells": [
  {
   "cell_type": "code",
   "execution_count": 1,
   "id": "fceac4e8",
   "metadata": {},
   "outputs": [
    {
     "name": "stdout",
     "output_type": "stream",
     "text": [
      "Hello Python\n"
     ]
    }
   ],
   "source": [
    "#Q1\n",
    "print('Hello Python')"
   ]
  },
  {
   "cell_type": "code",
   "execution_count": 2,
   "id": "81cf35ee",
   "metadata": {},
   "outputs": [
    {
     "name": "stdout",
     "output_type": "stream",
     "text": [
      "Enter first number12\n",
      "Enter Second number2\n",
      "Add  14\n",
      "Division  6.0\n"
     ]
    }
   ],
   "source": [
    "#Q2\n",
    "num1=int(input(\"Enter first number\"))\n",
    "num2=int(input(\"Enter Second number\"))\n",
    "print(\"Add \",num1+num2)\n",
    "print(\"Division \",num1/num2)"
   ]
  },
  {
   "cell_type": "code",
   "execution_count": 3,
   "id": "6dc1f8aa",
   "metadata": {},
   "outputs": [
    {
     "name": "stdout",
     "output_type": "stream",
     "text": [
      "Enter the base of triangle10\n",
      "Enter the height of triangle20\n",
      "Area of triangle:-  100.0\n"
     ]
    }
   ],
   "source": [
    "#Q3\n",
    "base=int(input(\"Enter the base of triangle\"))\n",
    "height=int(input(\"Enter the height of triangle\"))\n",
    "print(\"Area of triangle:- \",0.5*base*height)"
   ]
  },
  {
   "cell_type": "code",
   "execution_count": 6,
   "id": "09df8c96",
   "metadata": {},
   "outputs": [
    {
     "name": "stdout",
     "output_type": "stream",
     "text": [
      "Before swaping 1st number-> 5 2nd number-> 6\n",
      "After swaping 1st number-> 6 2nd number-> 5\n"
     ]
    }
   ],
   "source": [
    "#Q4\n",
    "num1=5\n",
    "num2=6\n",
    "print(\"Before swaping 1st number->\",num1,\"2nd number->\",num2)\n",
    "num3=num1\n",
    "num1=num2\n",
    "num2=num3\n",
    "print(\"After swaping 1st number->\",num1,\"2nd number->\",num2)"
   ]
  },
  {
   "cell_type": "code",
   "execution_count": 15,
   "id": "3d03ca14",
   "metadata": {},
   "outputs": [
    {
     "name": "stdout",
     "output_type": "stream",
     "text": [
      "random number-> 9794\n"
     ]
    }
   ],
   "source": [
    "#Q5\n",
    "import random\n",
    "a= random.randint(0,10000)\n",
    "print(\"random number->\",a)"
   ]
  },
  {
   "cell_type": "code",
   "execution_count": null,
   "id": "430aff5e",
   "metadata": {},
   "outputs": [],
   "source": []
  }
 ],
 "metadata": {
  "kernelspec": {
   "display_name": "Python 3",
   "language": "python",
   "name": "python3"
  },
  "language_info": {
   "codemirror_mode": {
    "name": "ipython",
    "version": 3
   },
   "file_extension": ".py",
   "mimetype": "text/x-python",
   "name": "python",
   "nbconvert_exporter": "python",
   "pygments_lexer": "ipython3",
   "version": "3.8.8"
  }
 },
 "nbformat": 4,
 "nbformat_minor": 5
}
