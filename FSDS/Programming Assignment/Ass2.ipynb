{
 "cells": [
  {
   "cell_type": "code",
   "execution_count": 5,
   "id": "a40e28ad",
   "metadata": {},
   "outputs": [
    {
     "name": "stdout",
     "output_type": "stream",
     "text": [
      "Enter kilometer22\n",
      "22.0 km =  13.670162 miles\n"
     ]
    }
   ],
   "source": [
    "#Q1\n",
    "km = float(input(\"Enter kilometer\"))\n",
    "miles = 0.621371*km\n",
    "print(km,\"km = \",miles,\"miles\")"
   ]
  },
  {
   "cell_type": "code",
   "execution_count": 8,
   "id": "d993bfb3",
   "metadata": {},
   "outputs": [
    {
     "name": "stdout",
     "output_type": "stream",
     "text": [
      "Enter Celsius to Fahrenheit24\n",
      "24.0 degree celsius = 75.2 Fahrenheit\n"
     ]
    }
   ],
   "source": [
    "#Q2\n",
    "cel = float(input(\"Enter Celsius to Fahrenheit\"))\n",
    "print(cel,\"degree celsius =\",(cel*9/5)+32,\"Fahrenheit\")"
   ]
  },
  {
   "cell_type": "code",
   "execution_count": 11,
   "id": "f2e3b1a0",
   "metadata": {},
   "outputs": [
    {
     "name": "stdout",
     "output_type": "stream",
     "text": [
      "Enter year2001\n",
      "Enter month08\n",
      "    August 2001\n",
      "Mo Tu We Th Fr Sa Su\n",
      "       1  2  3  4  5\n",
      " 6  7  8  9 10 11 12\n",
      "13 14 15 16 17 18 19\n",
      "20 21 22 23 24 25 26\n",
      "27 28 29 30 31\n",
      "\n"
     ]
    }
   ],
   "source": [
    "#Q3\n",
    "import calendar\n",
    "year=int(input(\"Enter year\"))\n",
    "month=int(input(\"Enter month\"))\n",
    "print(calendar.month(year,month))"
   ]
  },
  {
   "cell_type": "code",
   "execution_count": 48,
   "id": "d8bf91b5",
   "metadata": {},
   "outputs": [
    {
     "name": "stdout",
     "output_type": "stream",
     "text": [
      "write value of x^2 in quadratic equation-> 1\n",
      "write value of x in quadratic equation-> 2\n",
      "write value of constant in quadratic equation-> 1\n",
      "\n",
      "There will be one real root\n",
      "value of x is =  -1.0\n"
     ]
    }
   ],
   "source": [
    "#Q4\n",
    "# ax^2 +bx +c\n",
    "a=float(input(\"write value of x^2 in quadratic equation-> \"))\n",
    "b=float(input(\"write value of x in quadratic equation-> \"))\n",
    "c=float(input(\"write value of constant in quadratic equation-> \"))\n",
    "\n",
    "var = b**2 -4*a*c\n",
    "\n",
    "if(var == 0): \n",
    "    print(\"\\nThere will be one real root\")\n",
    "    D=math.sqrt((var)/2*a)\n",
    "    x1 = (-b+D)/2\n",
    "    x2 = (-b-D)/2\n",
    "    print(\"value of x is = \",x1)\n",
    "    \n",
    "if(var > 0):\n",
    "    print(\"\\nThere will be 2 real root\")\n",
    "    D=math.sqrt((var)/2*a)\n",
    "    x1 = (-b+D)/2\n",
    "    x2 = (-b-D)/2\n",
    "    print(\"value of x are = \",x1,\",\",x2)\n",
    "    \n",
    "if(var < 0):\n",
    "    print(\"\\nThere will be 2 complex root\")\n",
    "    print('value of x are = (',-b,'+ √(',b**2-4*a*c,'))/',2*a,' ; (-',b,'- √(',b**2-4*a*c,'))/',2*a)"
   ]
  },
  {
   "cell_type": "code",
   "execution_count": 32,
   "id": "c47ae914",
   "metadata": {},
   "outputs": [
    {
     "name": "stdout",
     "output_type": "stream",
     "text": [
      "Enter 1st number22\n",
      "Enter 2nd number10\n",
      "Before swaping 1st number->  22.0 and 2nd number->  10.0\n",
      "After swaping 1st number->  10.0 and 2nd number->  22.0\n"
     ]
    }
   ],
   "source": [
    "#Q5\n",
    "num1 = float(input(\"Enter 1st number\"))\n",
    "num2 = float(input(\"Enter 2nd number\"))\n",
    "print(\"Before swaping 1st number-> \",num1,\"and 2nd number-> \",num2)\n",
    "\n",
    "num2 = num2 + num1\n",
    "num1 = num1-num2\n",
    "if(num1 <0): num1 = -num1\n",
    "else: pass\n",
    "num2 = num2 - num1\n",
    "\n",
    "print(\"After swaping 1st number-> \",num1,\"and 2nd number-> \",num2)"
   ]
  },
  {
   "cell_type": "code",
   "execution_count": null,
   "id": "07d4e9bc",
   "metadata": {},
   "outputs": [],
   "source": []
  }
 ],
 "metadata": {
  "kernelspec": {
   "display_name": "Python 3",
   "language": "python",
   "name": "python3"
  },
  "language_info": {
   "codemirror_mode": {
    "name": "ipython",
    "version": 3
   },
   "file_extension": ".py",
   "mimetype": "text/x-python",
   "name": "python",
   "nbconvert_exporter": "python",
   "pygments_lexer": "ipython3",
   "version": "3.8.8"
  }
 },
 "nbformat": 4,
 "nbformat_minor": 5
}
