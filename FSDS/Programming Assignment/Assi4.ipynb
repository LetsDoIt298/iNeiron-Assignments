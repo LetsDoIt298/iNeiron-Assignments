{
 "cells": [
  {
   "cell_type": "code",
   "execution_count": 100,
   "id": "62d451d3",
   "metadata": {},
   "outputs": [
    {
     "name": "stdout",
     "output_type": "stream",
     "text": [
      "Enter a number:-22\n",
      "1124000727777607680000\n"
     ]
    }
   ],
   "source": [
    "#Q1 Factorial\n",
    "\n",
    "a=int(input(\"Enter a number:-\"))\n",
    "b=1\n",
    "for i in range(1,a+1):\n",
    "    b = b*i\n",
    "print(b)"
   ]
  },
  {
   "cell_type": "code",
   "execution_count": 101,
   "id": "b5ae67ad",
   "metadata": {},
   "outputs": [
    {
     "name": "stdout",
     "output_type": "stream",
     "text": [
      "Enter number of whose table is required2\n",
      "2 X 1 = 2\n",
      "2 X 2 = 4\n",
      "2 X 3 = 6\n",
      "2 X 4 = 8\n",
      "2 X 5 = 10\n",
      "2 X 6 = 12\n",
      "2 X 7 = 14\n",
      "2 X 8 = 16\n",
      "2 X 9 = 18\n",
      "2 X 10 = 20\n"
     ]
    }
   ],
   "source": [
    "#Q2 Table\n",
    "\n",
    "num=int(input(\"Enter number of whose table is required\"))\n",
    "for i in range(1,11):\n",
    "    print(num,'X',i,'=',num*i)"
   ]
  },
  {
   "cell_type": "code",
   "execution_count": 102,
   "id": "7131a2e8",
   "metadata": {},
   "outputs": [
    {
     "name": "stdout",
     "output_type": "stream",
     "text": [
      "Enter a positive integer6\n",
      "0 1 1 2 3 5 "
     ]
    }
   ],
   "source": [
    "#Q3 Fibonacci sequence\n",
    "a,b=0,1\n",
    "for i in range(int(input(\"Enter a positive integer\"))):\n",
    "    print(a ,end=' ')\n",
    "    c= a+b\n",
    "    a = b\n",
    "    b=c"
   ]
  },
  {
   "cell_type": "code",
   "execution_count": 103,
   "id": "2e482649",
   "metadata": {},
   "outputs": [
    {
     "name": "stdout",
     "output_type": "stream",
     "text": [
      "Enter a number=>153\n",
      "This is an Armstrong numbner\n"
     ]
    }
   ],
   "source": [
    "#Q4 Am\n",
    "num_str = input(\"Enter a number=>\")\n",
    "num_len = len(num_str)\n",
    "\n",
    "try:\n",
    "    num_int = int(num_str)    #converting a str into int\n",
    "    sum1=0\n",
    "    for i in num_str:         #check if armstrong\n",
    "        sum1 = sum1+ int(i)**num_len\n",
    "\n",
    "    if(num_str==str(sum1)):\n",
    "        print(\"This is an Armstrong numbner\")\n",
    "    else:\n",
    "        print(\"Number entered is not an Armstrong number\")\n",
    "except:\n",
    "    print(\"Please enter a positive number only\")\n",
    "\n"
   ]
  },
  {
   "cell_type": "code",
   "execution_count": null,
   "id": "1bb7a3ac",
   "metadata": {},
   "outputs": [],
   "source": []
  },
  {
   "cell_type": "code",
   "execution_count": 104,
   "id": "268ebf80",
   "metadata": {},
   "outputs": [
    {
     "name": "stdout",
     "output_type": "stream",
     "text": [
      "Enter a range to find out Armstrong number starting from 0:-1000\n",
      "\n",
      "\n",
      " Following numbers are the Armstrong number\n",
      " present between 0 to 1000 \n",
      "(including 0 and 1000 )=>\n",
      "\t\t\t 0,1,2,3,4,5,6,7,8,9,153,370,371,407\n"
     ]
    }
   ],
   "source": [
    "#Q5 Find Armstrong Number in an Interval?\n",
    "\n",
    "ArmstrongNos=''\n",
    "num = int(input(\"Enter a range to find out Armstrong number starting from 0:-\"))\n",
    "print(\"\\n\\n Following numbers are the Armstrong number\\n present between 0 to\",num,\"\\n(including 0 and\",num,\")=>\")\n",
    "\n",
    "for i in range(num+1):\n",
    "    num_str = str(i)\n",
    "    num_len = len(num_str)\n",
    "\n",
    "    #print(num_str)\n",
    "    try:\n",
    "            sum1=0\n",
    "            for j in num_str:         #check if Armstrong number\n",
    "                sum1 = sum1 + int(j)**num_len\n",
    "\n",
    "            if(num_str == str(sum1)):\n",
    "                ArmstrongNos = ArmstrongNos + num_str + ','\n",
    "        \n",
    "    except:\n",
    "        print(\"Please enter a positive number only\")\n",
    "\n",
    "print('\\t\\t\\t',ArmstrongNos[:-1])"
   ]
  },
  {
   "cell_type": "code",
   "execution_count": null,
   "id": "cf2be89c",
   "metadata": {},
   "outputs": [],
   "source": []
  },
  {
   "cell_type": "code",
   "execution_count": null,
   "id": "200c9dad",
   "metadata": {},
   "outputs": [],
   "source": []
  },
  {
   "cell_type": "code",
   "execution_count": 105,
   "id": "91d386ed",
   "metadata": {},
   "outputs": [
    {
     "name": "stdout",
     "output_type": "stream",
     "text": [
      "Enter a natural nuber uptill which sum is required 10\n",
      "\n",
      "\n",
      "1 + 2 = 3\n",
      "3 + 3 = 6\n",
      "6 + 4 = 10\n",
      "10 + 5 = 15\n",
      "15 + 6 = 21\n",
      "21 + 7 = 28\n",
      "28 + 8 = 36\n",
      "36 + 9 = 45\n",
      "45 + 10 = 55\n",
      "Thus, sum of  10 natural numbers =>  55\n"
     ]
    }
   ],
   "source": [
    "#Q6 Find the Sum of Natural Numbers?\n",
    "a=1\n",
    "b = int(input(\"Enter a natural nuber uptill which sum is required \"))\n",
    "print('\\n')\n",
    "if(b==0 or b<0): \n",
    "    print(\"Kindly enter Natural numbers only\") \n",
    "    \n",
    "else:\n",
    "    for i in range(2,b+1):\n",
    "        print(a,'+',i,'= ',end='')\n",
    "        a = a+i\n",
    "        print(a)\n",
    "    print('Thus, sum of ',b,'natural numbers => ',a)"
   ]
  },
  {
   "cell_type": "code",
   "execution_count": null,
   "id": "8bf2c308",
   "metadata": {},
   "outputs": [],
   "source": [
    "\n"
   ]
  },
  {
   "cell_type": "code",
   "execution_count": null,
   "id": "8390b8e2",
   "metadata": {},
   "outputs": [],
   "source": []
  }
 ],
 "metadata": {
  "kernelspec": {
   "display_name": "Python 3",
   "language": "python",
   "name": "python3"
  },
  "language_info": {
   "codemirror_mode": {
    "name": "ipython",
    "version": 3
   },
   "file_extension": ".py",
   "mimetype": "text/x-python",
   "name": "python",
   "nbconvert_exporter": "python",
   "pygments_lexer": "ipython3",
   "version": "3.8.8"
  }
 },
 "nbformat": 4,
 "nbformat_minor": 5
}
